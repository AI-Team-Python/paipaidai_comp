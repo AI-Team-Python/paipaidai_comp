{
 "cells": [
  {
   "cell_type": "code",
   "execution_count": 1,
   "metadata": {
    "collapsed": true
   },
   "outputs": [],
   "source": [
    "import warnings\n",
    "warnings.filterwarnings(\"ignore\")\n",
    "\n",
    "import numpy as np\n",
    "import pandas as pd\n",
    "from glob import glob\n",
    "from datetime import datetime"
   ]
  },
  {
   "cell_type": "code",
   "execution_count": 2,
   "metadata": {
    "collapsed": true
   },
   "outputs": [],
   "source": [
    "DATA_PATH = \"./data/\"\n",
    "TRAIN_PATH = DATA_PATH + \"train.csv\"\n",
    "TEST_PATH = DATA_PATH + \"test.csv\"\n",
    "WORD_EMBED_PATH = DATA_PATH + \"word_embed.txt\"\n",
    "CHAR_EMBED_PATH = DATA_PATH + \"char_embed.txt\"\n",
    "QUEST_PATH = DATA_PATH + \"question.csv\"\n",
    "\n",
    "train_data = pd.read_csv(TRAIN_PATH)\n",
    "test_data = pd.read_csv(TEST_PATH)\n",
    "question_data = pd.read_csv(QUEST_PATH)\n",
    "word_embedding_data = pd.read_csv(WORD_EMBED_PATH, delimiter=\" \", header=None, index_col=0)\n",
    "char_embedding_data = pd.read_csv(CHAR_EMBED_PATH, delimiter=\" \", header=None, index_col=0)\n",
    "\n",
    "question_data[\"words\"] = question_data[\"words\"].str.split(\" \")\n",
    "question_data[\"chars\"] = question_data[\"chars\"].str.split(\" \")"
   ]
  },
  {
   "cell_type": "code",
   "execution_count": 3,
   "metadata": {},
   "outputs": [
    {
     "name": "stderr",
     "output_type": "stream",
     "text": [
      "Using TensorFlow backend.\n"
     ]
    },
    {
     "data": {
      "text/plain": [
       "(10001, 300)"
      ]
     },
     "execution_count": 3,
     "metadata": {},
     "output_type": "execute_result"
    }
   ],
   "source": [
    "from keras.preprocessing.text import Tokenizer\n",
    "\n",
    "MAX_WORD_NUMS = 10000\n",
    "\n",
    "word_tokenizer = Tokenizer(MAX_WORD_NUMS)\n",
    "word_tokenizer.fit_on_texts(question_data[\"words\"])\n",
    "\n",
    "word_embedding_data = np.concatenate(\n",
    "    (\n",
    "        np.zeros(shape=(1, word_embedding_data.shape[1]), dtype=np.float64),\n",
    "        word_embedding_data.loc[list(word_tokenizer.word_index.keys())[:MAX_WORD_NUMS]].values\n",
    "    ),\n",
    "    axis=0\n",
    ")\n",
    "word_embedding_data.shape"
   ]
  },
  {
   "cell_type": "code",
   "execution_count": 4,
   "metadata": {},
   "outputs": [
    {
     "data": {
      "text/plain": [
       "((254386, 30), (254386, 30), (172956, 30), (172956, 30))"
      ]
     },
     "execution_count": 4,
     "metadata": {},
     "output_type": "execute_result"
    }
   ],
   "source": [
    "from keras.preprocessing.sequence import pad_sequences\n",
    "\n",
    "WORD_SEQ_LEN = 30\n",
    "\n",
    "def gen_data(data):\n",
    "    seq_word1 = word_tokenizer.texts_to_sequences(data.merge(question_data, how=\"left\", left_on=\"q1\", right_on=\"qid\")[\"words\"])\n",
    "    seq_word2 = word_tokenizer.texts_to_sequences(data.merge(question_data, how=\"left\", left_on=\"q2\", right_on=\"qid\")[\"words\"])\n",
    "    return pad_sequences(seq_word1, maxlen=WORD_SEQ_LEN, padding=\"pre\",truncating=\"pre\"), \\\n",
    "        pad_sequences(seq_word2, maxlen=WORD_SEQ_LEN, padding=\"pre\",truncating=\"pre\")\n",
    "\n",
    "word1, word2 = gen_data(train_data)\n",
    "test_word1, test_word2 = gen_data(test_data)\n",
    "\n",
    "word1.shape, word2.shape, test_word1.shape, test_word2.shape"
   ]
  },
  {
   "cell_type": "code",
   "execution_count": 5,
   "metadata": {
    "collapsed": true
   },
   "outputs": [],
   "source": [
    "label = train_data[\"label\"].values"
   ]
  },
  {
   "cell_type": "code",
   "execution_count": 6,
   "metadata": {
    "collapsed": true
   },
   "outputs": [],
   "source": [
    "from keras.layers import Input, Embedding, Dropout, Dense, BatchNormalization, K, LSTM\n",
    "from keras.models import Model\n",
    "from keras.callbacks import EarlyStopping, ModelCheckpoint\n",
    "from keras.layers.merge import concatenate\n",
    "\n",
    "DROP_RATE = 0.25\n",
    "LSTM_SIZE_1 = 256\n",
    "LSTM_SIZE_2 = 256\n",
    "DENSE_SIZE = 300\n",
    "BATCH_SIZE = 2048\n",
    "NUM_EPOCHES = 50"
   ]
  },
  {
   "cell_type": "code",
   "execution_count": null,
   "metadata": {},
   "outputs": [],
   "source": [
    "# from sklearn.model_selection import train_test_split\n",
    "\n",
    "# train_word1, dev_word1, train_word2, dev_word2, train_y, dev_y = train_test_split(\n",
    "#     word1, word2, train_data[\"label\"].values,\n",
    "#     test_size=0.2\n",
    "# )\n",
    "\n",
    "# word_input1 = Input(shape=(WORD_SEQ_LEN,), dtype=\"int32\")\n",
    "# word_input2 = Input(shape=(WORD_SEQ_LEN,), dtype=\"int32\")\n",
    "\n",
    "# embedding_layer = Embedding(\n",
    "#     input_dim=word_embedding_data.shape[0],\n",
    "#     output_dim=word_embedding_data.shape[1],\n",
    "#     weights=[word_embedding_data],\n",
    "#     input_length=WORD_SEQ_LEN,\n",
    "#     trainable=False\n",
    "# )\n",
    "\n",
    "# word_vector1 = embedding_layer(word_input1)\n",
    "# word_vector2 = embedding_layer(word_input2)\n",
    "\n",
    "# lstm_layer1 = LSTM(LSTM_SIZE_1, dropout=DROP_RATE, recurrent_dropout=DROP_RATE, return_sequences=True)\n",
    "# word_first_1 = lstm_layer1(word_vector1)\n",
    "# word_first_1 = Dropout(DROP_RATE)(word_first_1)\n",
    "# word_first_2 = lstm_layer1(word_vector2)\n",
    "# word_first_2 = Dropout(DROP_RATE)(word_first_2)\n",
    "\n",
    "# lstm_layer2 = LSTM(LSTM_SIZE_2, dropout=DROP_RATE, recurrent_dropout=DROP_RATE, return_sequences=False)\n",
    "# word_second_1 = lstm_layer2(word_first_1)\n",
    "# word_second_2 = lstm_layer2(word_first_2)\n",
    "\n",
    "# x = concatenate([word_second_1, word_second_2])\n",
    "# x = Dropout(DROP_RATE)(x)\n",
    "# x = BatchNormalization()(x)\n",
    "\n",
    "# x = Dense(DENSE_SIZE, activation=\"relu\")(x)\n",
    "# x = Dropout(DROP_RATE)(x)\n",
    "# x = BatchNormalization()(x)\n",
    "\n",
    "# pred = Dense(1, activation=\"sigmoid\")(x)\n",
    "\n",
    "# model = Model(inputs=[word_input1, word_input2], outputs=pred)\n",
    "# model.compile(\n",
    "#     optimizer=\"nadam\",\n",
    "#     loss=\"binary_crossentropy\",\n",
    "#     metrics=[\"acc\"]\n",
    "# )\n",
    "\n",
    "# early_stopping = EarlyStopping(\"val_loss\", patience=10)\n",
    "# check_point = ModelCheckpoint(\n",
    "#     \"./log/%s.multi_lstm.{epoch:03d}.hdf5\" % (datetime.now().strftime(\"%Y%m%d-%H%M%S\")),\n",
    "#     monitor=\"val_loss\",\n",
    "#     save_best_only=True,\n",
    "#     save_weights_only=True\n",
    "# )\n",
    "\n",
    "# train_res = model.fit(\n",
    "#     x=[train_word1, train_word2],\n",
    "#     y=train_y,\n",
    "#     batch_size=BATCH_SIZE,\n",
    "#     epochs=NUM_EPOCHES,\n",
    "#     validation_data=([dev_word1, dev_word2], dev_y),\n",
    "#     shuffle=True,\n",
    "#     callbacks=[early_stopping, check_point]\n",
    "# )\n",
    "\n",
    "# print(\"load model %s\" % (glob(\"./log/*.hdf5\")[-1].replace(\"\\\\\", \"/\"),))\n",
    "# model.load_weights(glob(\"./log/*.hdf5\")[-1].replace(\"\\\\\", \"/\"))\n",
    "\n",
    "# test_pred = model.predict([test_word1, test_word2], batch_size=BATCH_SIZE)\n",
    "# pd.DataFrame(test_pred, columns=[\"y_pre\"]).to_csv(\"./result/pred.csv\", index=False)"
   ]
  },
  {
   "cell_type": "code",
   "execution_count": null,
   "metadata": {},
   "outputs": [
    {
     "name": "stdout",
     "output_type": "stream",
     "text": [
      "Train on 228946 samples, validate on 25440 samples\n",
      "Epoch 1/50\n",
      "228946/228946 [==============================] - 112s 490us/step - loss: 0.4825 - acc: 0.7704 - val_loss: 0.3700 - val_acc: 0.8417\n",
      "Epoch 2/50\n",
      "228946/228946 [==============================] - 109s 476us/step - loss: 0.3555 - acc: 0.8402 - val_loss: 0.3143 - val_acc: 0.8664\n",
      "Epoch 3/50\n",
      "228946/228946 [==============================] - 110s 481us/step - loss: 0.3103 - acc: 0.8635 - val_loss: 0.2773 - val_acc: 0.8804\n",
      "Epoch 4/50\n",
      "228946/228946 [==============================] - 110s 482us/step - loss: 0.2797 - acc: 0.8784 - val_loss: 0.2523 - val_acc: 0.8926\n",
      "Epoch 5/50\n",
      "228946/228946 [==============================] - 110s 479us/step - loss: 0.2590 - acc: 0.8886 - val_loss: 0.2428 - val_acc: 0.8953\n",
      "Epoch 6/50\n",
      "228946/228946 [==============================] - 110s 479us/step - loss: 0.2443 - acc: 0.8956 - val_loss: 0.2340 - val_acc: 0.8997\n",
      "Epoch 7/50\n",
      "228946/228946 [==============================] - 109s 478us/step - loss: 0.2306 - acc: 0.9015 - val_loss: 0.2230 - val_acc: 0.9058\n",
      "Epoch 8/50\n",
      "228946/228946 [==============================] - 110s 479us/step - loss: 0.2206 - acc: 0.9073 - val_loss: 0.2145 - val_acc: 0.9110\n",
      "Epoch 9/50\n",
      "228946/228946 [==============================] - 110s 479us/step - loss: 0.2125 - acc: 0.9111 - val_loss: 0.2241 - val_acc: 0.9097\n",
      "Epoch 10/50\n",
      "228946/228946 [==============================] - 110s 479us/step - loss: 0.2056 - acc: 0.9138 - val_loss: 0.2130 - val_acc: 0.9115\n",
      "Epoch 11/50\n",
      "228946/228946 [==============================] - 110s 479us/step - loss: 0.1999 - acc: 0.9162 - val_loss: 0.2122 - val_acc: 0.9136\n",
      "Epoch 12/50\n",
      "228946/228946 [==============================] - 110s 479us/step - loss: 0.1951 - acc: 0.9185 - val_loss: 0.2071 - val_acc: 0.9157\n",
      "Epoch 13/50\n",
      "228946/228946 [==============================] - 110s 479us/step - loss: 0.1894 - acc: 0.9213 - val_loss: 0.2048 - val_acc: 0.9174\n",
      "Epoch 14/50\n",
      "228946/228946 [==============================] - 110s 479us/step - loss: 0.1846 - acc: 0.9228 - val_loss: 0.2091 - val_acc: 0.9164\n",
      "Epoch 15/50\n",
      "228946/228946 [==============================] - 110s 479us/step - loss: 0.1814 - acc: 0.9248 - val_loss: 0.2037 - val_acc: 0.9190\n",
      "Epoch 16/50\n",
      "228946/228946 [==============================] - 110s 479us/step - loss: 0.1785 - acc: 0.9264 - val_loss: 0.2011 - val_acc: 0.9195\n",
      "Epoch 17/50\n",
      "228946/228946 [==============================] - 110s 479us/step - loss: 0.1749 - acc: 0.9279 - val_loss: 0.2007 - val_acc: 0.9219\n",
      "Epoch 18/50\n",
      " 98304/228946 [===========>..................] - ETA: 1:00 - loss: 0.1709 - acc: 0.9298"
     ]
    }
   ],
   "source": [
    "from sklearn.model_selection import StratifiedKFold\n",
    "\n",
    "pred_collect = []\n",
    "\n",
    "for i, (train_index, dev_index) in enumerate(StratifiedKFold(n_splits=10).split(X=word1, y=label)):\n",
    "    train_word1, train_word2, train_y = word1[train_index, :], word2[train_index, :], label[train_index]\n",
    "    dev_word1, dev_word2, dev_y = word1[dev_index, :], word2[dev_index, :], label[dev_index]\n",
    "\n",
    "    word_input1 = Input(shape=(WORD_SEQ_LEN,), dtype=\"int32\")\n",
    "    word_input2 = Input(shape=(WORD_SEQ_LEN,), dtype=\"int32\")\n",
    "\n",
    "    embedding_layer = Embedding(\n",
    "        input_dim=word_embedding_data.shape[0],\n",
    "        output_dim=word_embedding_data.shape[1],\n",
    "        weights=[word_embedding_data],\n",
    "        input_length=WORD_SEQ_LEN,\n",
    "        trainable=False\n",
    "    )\n",
    "\n",
    "    word_vector1 = embedding_layer(word_input1)\n",
    "    word_vector2 = embedding_layer(word_input2)\n",
    "\n",
    "    lstm_layer1 = LSTM(LSTM_SIZE_1, dropout=DROP_RATE, recurrent_dropout=DROP_RATE, return_sequences=True)\n",
    "    word_first_1 = lstm_layer1(word_vector1)\n",
    "    word_first_1 = Dropout(DROP_RATE)(word_first_1)\n",
    "    word_first_2 = lstm_layer1(word_vector2)\n",
    "    word_first_2 = Dropout(DROP_RATE)(word_first_2)\n",
    "\n",
    "    lstm_layer2 = LSTM(LSTM_SIZE_2, dropout=DROP_RATE, recurrent_dropout=DROP_RATE, return_sequences=False)\n",
    "    word_second_1 = lstm_layer2(word_first_1)\n",
    "    word_second_2 = lstm_layer2(word_first_2)\n",
    "\n",
    "    x = concatenate([word_second_1, word_second_2])\n",
    "    x = Dropout(DROP_RATE)(x)\n",
    "    x = BatchNormalization()(x)\n",
    "\n",
    "    x = Dense(DENSE_SIZE, activation=\"relu\")(x)\n",
    "    x = Dropout(DROP_RATE)(x)\n",
    "    x = BatchNormalization()(x)\n",
    "\n",
    "    pred = Dense(1, activation=\"sigmoid\")(x)\n",
    "\n",
    "    model = Model(inputs=[word_input1, word_input2], outputs=pred)\n",
    "    model.compile(\n",
    "        optimizer=\"nadam\",\n",
    "        loss=\"binary_crossentropy\",\n",
    "        metrics=[\"acc\"]\n",
    "    )\n",
    "\n",
    "    early_stopping = EarlyStopping(\"val_loss\", patience=10)\n",
    "    check_point = ModelCheckpoint(\n",
    "        \"./log/%s.multi_lstm.{epoch:03d}.hdf5\" % (datetime.now().strftime(\"%Y%m%d-%H%M%S\")),\n",
    "        monitor=\"val_loss\",\n",
    "        save_best_only=True,\n",
    "        save_weights_only=True\n",
    "    )\n",
    "\n",
    "    train_res = model.fit(\n",
    "        x=[train_word1, train_word2],\n",
    "        y=train_y,\n",
    "        batch_size=BATCH_SIZE,\n",
    "        epochs=NUM_EPOCHES,\n",
    "        validation_data=([dev_word1, dev_word2], dev_y),\n",
    "        shuffle=True,\n",
    "        callbacks=[early_stopping, check_point]\n",
    "    )\n",
    "\n",
    "    print(\"load model %s\" % (glob(\"./log/*.hdf5\")[-1].replace(\"\\\\\", \"/\"),))\n",
    "    model.load_weights(glob(\"./log/*.hdf5\")[-1].replace(\"\\\\\", \"/\"))\n",
    "\n",
    "    test_pred = model.predict([test_word1, test_word2], batch_size=BATCH_SIZE)\n",
    "    pred_collect.append(pd.DataFrame(test_pred, columns=[\"y_pre\"]))\n",
    "\n",
    "pd.DataFrame(pd.concat(pred_collect, axis=1).mean(axis=1), columns=[\"y_pre\"]).to_csv(\n",
    "    \"./result/%s-pred.csv\" % (datetime.now().strftime(\"%Y%m%d-%H%M%S\")),\n",
    "    index=False\n",
    ")"
   ]
  }
 ],
 "metadata": {
  "kernelspec": {
   "display_name": "Python 3",
   "language": "python",
   "name": "python3"
  },
  "language_info": {
   "codemirror_mode": {
    "name": "ipython",
    "version": 3
   },
   "file_extension": ".py",
   "mimetype": "text/x-python",
   "name": "python",
   "nbconvert_exporter": "python",
   "pygments_lexer": "ipython3",
   "version": "3.6.2"
  }
 },
 "nbformat": 4,
 "nbformat_minor": 2
}
