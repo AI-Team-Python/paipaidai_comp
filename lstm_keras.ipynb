{
 "cells": [
  {
   "cell_type": "code",
   "execution_count": 1,
   "metadata": {
    "collapsed": true
   },
   "outputs": [],
   "source": [
    "import warnings\n",
    "warnings.filterwarnings(\"ignore\")\n",
    "\n",
    "import numpy as np\n",
    "import pandas as pd\n",
    "from glob import glob\n",
    "from datetime import datetime"
   ]
  },
  {
   "cell_type": "code",
   "execution_count": 2,
   "metadata": {
    "collapsed": true
   },
   "outputs": [],
   "source": [
    "DATA_PATH = \"./data/\"\n",
    "TRAIN_PATH = DATA_PATH + \"train.csv\"\n",
    "TEST_PATH = DATA_PATH + \"test.csv\"\n",
    "WORD_EMBED_PATH = DATA_PATH + \"word_embed.txt\"\n",
    "CHAR_EMBED_PATH = DATA_PATH + \"char_embed.txt\"\n",
    "QUEST_PATH = DATA_PATH + \"question.csv\""
   ]
  },
  {
   "cell_type": "code",
   "execution_count": 3,
   "metadata": {
    "collapsed": true
   },
   "outputs": [],
   "source": [
    "train_data = pd.read_csv(TRAIN_PATH)\n",
    "test_data = pd.read_csv(TEST_PATH)\n",
    "question_data = pd.read_csv(QUEST_PATH)\n",
    "word_embedding_data = pd.read_csv(WORD_EMBED_PATH, delimiter=\" \", header=None, index_col=0)\n",
    "char_embedding_data = pd.read_csv(CHAR_EMBED_PATH, delimiter=\" \", header=None, index_col=0)\n",
    "\n",
    "question_data[\"words\"] = question_data[\"words\"].str.split(\" \")\n",
    "question_data[\"chars\"] = question_data[\"chars\"].str.split(\" \")"
   ]
  },
  {
   "cell_type": "code",
   "execution_count": 4,
   "metadata": {},
   "outputs": [
    {
     "name": "stderr",
     "output_type": "stream",
     "text": [
      "Using TensorFlow backend.\n"
     ]
    }
   ],
   "source": [
    "from keras.preprocessing.text import Tokenizer\n",
    "\n",
    "MAX_WORD_NUMS = 10000\n",
    "\n",
    "word_tokenizer = Tokenizer(MAX_WORD_NUMS)\n",
    "word_tokenizer.fit_on_texts(question_data[\"words\"])"
   ]
  },
  {
   "cell_type": "code",
   "execution_count": 5,
   "metadata": {},
   "outputs": [
    {
     "data": {
      "text/plain": [
       "(10001, 300)"
      ]
     },
     "execution_count": 5,
     "metadata": {},
     "output_type": "execute_result"
    }
   ],
   "source": [
    "word_embedding_data = np.concatenate(\n",
    "    (\n",
    "        np.zeros(shape=(1, word_embedding_data.shape[1]), dtype=np.float64),\n",
    "        word_embedding_data.loc[list(word_tokenizer.word_index.keys())[:MAX_WORD_NUMS]].values\n",
    "    ),\n",
    "    axis=0\n",
    ")\n",
    "word_embedding_data.shape"
   ]
  },
  {
   "cell_type": "code",
   "execution_count": 6,
   "metadata": {
    "collapsed": true
   },
   "outputs": [],
   "source": [
    "from keras.preprocessing.sequence import pad_sequences\n",
    "\n",
    "WORD_SEQ_LEN = 30\n",
    "\n",
    "def gen_data(data):\n",
    "    seq_word1 = word_tokenizer.texts_to_sequences(data.merge(question_data, how=\"left\", left_on=\"q1\", right_on=\"qid\")[\"words\"])\n",
    "    seq_word2 = word_tokenizer.texts_to_sequences(data.merge(question_data, how=\"left\", left_on=\"q2\", right_on=\"qid\")[\"words\"])\n",
    "    return pad_sequences(seq_word1, maxlen=WORD_SEQ_LEN, padding=\"pre\",truncating=\"pre\"), \\\n",
    "        pad_sequences(seq_word2, maxlen=WORD_SEQ_LEN, padding=\"pre\",truncating=\"pre\")"
   ]
  },
  {
   "cell_type": "code",
   "execution_count": 7,
   "metadata": {
    "collapsed": true
   },
   "outputs": [],
   "source": [
    "word1, word2 = gen_data(train_data)\n",
    "test_word1, test_word2 = gen_data(test_data)"
   ]
  },
  {
   "cell_type": "code",
   "execution_count": 8,
   "metadata": {
    "collapsed": true
   },
   "outputs": [],
   "source": [
    "from keras.layers import Input, Embedding, LSTM, Dropout, BatchNormalization, Dense, Lambda\n",
    "from keras.layers.merge import concatenate\n",
    "from keras.models import Model\n",
    "from keras.optimizers import Adam\n",
    "from keras.callbacks import EarlyStopping, ModelCheckpoint, ReduceLROnPlateau"
   ]
  },
  {
   "cell_type": "code",
   "execution_count": 9,
   "metadata": {},
   "outputs": [
    {
     "name": "stdout",
     "output_type": "stream",
     "text": [
      "Train on 203508 samples, validate on 50878 samples\n",
      "Epoch 1/100\n",
      "203508/203508 [==============================] - 43s 213us/step - loss: 0.5382 - acc: 0.7399 - val_loss: 0.4890 - val_acc: 0.8098\n",
      "Epoch 2/100\n",
      "203508/203508 [==============================] - 42s 206us/step - loss: 0.3946 - acc: 0.8239 - val_loss: 0.4109 - val_acc: 0.8288\n",
      "Epoch 3/100\n",
      "203508/203508 [==============================] - 42s 206us/step - loss: 0.3493 - acc: 0.8463 - val_loss: 0.3647 - val_acc: 0.8443\n",
      "Epoch 4/100\n",
      "203508/203508 [==============================] - 42s 205us/step - loss: 0.3197 - acc: 0.8608 - val_loss: 0.3297 - val_acc: 0.8572\n",
      "Epoch 5/100\n",
      "203508/203508 [==============================] - 42s 205us/step - loss: 0.2970 - acc: 0.8722 - val_loss: 0.3192 - val_acc: 0.8628\n",
      "Epoch 6/100\n",
      "203508/203508 [==============================] - 42s 205us/step - loss: 0.2791 - acc: 0.8807 - val_loss: 0.2932 - val_acc: 0.8732\n",
      "Epoch 7/100\n",
      "203508/203508 [==============================] - 42s 205us/step - loss: 0.2660 - acc: 0.8867 - val_loss: 0.2907 - val_acc: 0.8758\n",
      "Epoch 8/100\n",
      "203508/203508 [==============================] - 42s 205us/step - loss: 0.2549 - acc: 0.8917 - val_loss: 0.2844 - val_acc: 0.8775\n",
      "Epoch 9/100\n",
      "203508/203508 [==============================] - 42s 206us/step - loss: 0.2437 - acc: 0.8966 - val_loss: 0.2718 - val_acc: 0.8828\n",
      "Epoch 10/100\n",
      "203508/203508 [==============================] - 42s 206us/step - loss: 0.2351 - acc: 0.9011 - val_loss: 0.2583 - val_acc: 0.8896\n",
      "Epoch 11/100\n",
      "203508/203508 [==============================] - 42s 206us/step - loss: 0.2268 - acc: 0.9048 - val_loss: 0.2561 - val_acc: 0.8916\n",
      "Epoch 12/100\n",
      "203508/203508 [==============================] - 42s 206us/step - loss: 0.2198 - acc: 0.9079 - val_loss: 0.2600 - val_acc: 0.8895\n",
      "Epoch 13/100\n",
      "203508/203508 [==============================] - 42s 206us/step - loss: 0.2142 - acc: 0.9101 - val_loss: 0.2491 - val_acc: 0.8942\n",
      "Epoch 14/100\n",
      "203508/203508 [==============================] - 42s 206us/step - loss: 0.2080 - acc: 0.9134 - val_loss: 0.2525 - val_acc: 0.8926\n",
      "Epoch 15/100\n",
      "203508/203508 [==============================] - 42s 206us/step - loss: 0.2044 - acc: 0.9152 - val_loss: 0.2544 - val_acc: 0.8930\n",
      "Epoch 16/100\n",
      "203508/203508 [==============================] - 42s 206us/step - loss: 0.1992 - acc: 0.9176 - val_loss: 0.2443 - val_acc: 0.8971\n",
      "Epoch 17/100\n",
      "203508/203508 [==============================] - 42s 206us/step - loss: 0.1946 - acc: 0.9199 - val_loss: 0.2459 - val_acc: 0.8966\n",
      "Epoch 18/100\n",
      "203508/203508 [==============================] - 42s 206us/step - loss: 0.1917 - acc: 0.9201 - val_loss: 0.2447 - val_acc: 0.9003\n",
      "Epoch 19/100\n",
      "203508/203508 [==============================] - 42s 206us/step - loss: 0.1888 - acc: 0.9219 - val_loss: 0.2404 - val_acc: 0.9024\n",
      "Epoch 20/100\n",
      "203508/203508 [==============================] - 42s 205us/step - loss: 0.1853 - acc: 0.9238 - val_loss: 0.2446 - val_acc: 0.8992\n",
      "Epoch 21/100\n",
      "203508/203508 [==============================] - 42s 205us/step - loss: 0.1827 - acc: 0.9252 - val_loss: 0.2345 - val_acc: 0.9045\n",
      "Epoch 22/100\n",
      "203508/203508 [==============================] - 42s 205us/step - loss: 0.1796 - acc: 0.9260 - val_loss: 0.2463 - val_acc: 0.8990\n",
      "Epoch 23/100\n",
      "203508/203508 [==============================] - 42s 205us/step - loss: 0.1757 - acc: 0.9278 - val_loss: 0.2392 - val_acc: 0.9023\n",
      "Epoch 24/100\n",
      "203508/203508 [==============================] - 42s 206us/step - loss: 0.1739 - acc: 0.9281 - val_loss: 0.2407 - val_acc: 0.9026\n",
      "Epoch 25/100\n",
      "203508/203508 [==============================] - 42s 205us/step - loss: 0.1669 - acc: 0.9316 - val_loss: 0.2375 - val_acc: 0.9054\n",
      "Epoch 26/100\n",
      "203508/203508 [==============================] - 42s 205us/step - loss: 0.1625 - acc: 0.9334 - val_loss: 0.2333 - val_acc: 0.9076\n",
      "Epoch 27/100\n",
      "203508/203508 [==============================] - 42s 206us/step - loss: 0.1594 - acc: 0.9336 - val_loss: 0.2354 - val_acc: 0.9073\n",
      "Epoch 28/100\n",
      "203508/203508 [==============================] - 42s 206us/step - loss: 0.1550 - acc: 0.9373 - val_loss: 0.2365 - val_acc: 0.9069\n",
      "Epoch 29/100\n",
      "203508/203508 [==============================] - 42s 206us/step - loss: 0.1548 - acc: 0.9367 - val_loss: 0.2387 - val_acc: 0.9078\n",
      "Epoch 30/100\n",
      "203508/203508 [==============================] - 42s 206us/step - loss: 0.1520 - acc: 0.9378 - val_loss: 0.2368 - val_acc: 0.9086\n",
      "Epoch 31/100\n",
      "203508/203508 [==============================] - 42s 205us/step - loss: 0.1518 - acc: 0.9384 - val_loss: 0.2383 - val_acc: 0.9084\n",
      "Epoch 32/100\n",
      "203508/203508 [==============================] - 42s 205us/step - loss: 0.1507 - acc: 0.9385 - val_loss: 0.2379 - val_acc: 0.9088\n",
      "load model ./log/20180702-072409.lstm.026.hdf5\n"
     ]
    }
   ],
   "source": [
    "from sklearn.model_selection import train_test_split\n",
    "\n",
    "train_word1, dev_word1, train_word2, dev_word2, train_y, dev_y = train_test_split(\n",
    "    word1, word2, train_data[\"label\"].values,\n",
    "    test_size=0.2\n",
    ")\n",
    "\n",
    "train_word1.shape, dev_word1.shape\n",
    "\n",
    "lstm_size = 256\n",
    "drop_rate = 0.3\n",
    "dense_size = 300\n",
    "num_epoch = 100\n",
    "batch_size = 2048\n",
    "\n",
    "word_input1 = Input(shape=(WORD_SEQ_LEN,), dtype=\"int32\")\n",
    "word_input2 = Input(shape=(WORD_SEQ_LEN,), dtype=\"int32\")\n",
    "\n",
    "embedding_layer = Embedding(\n",
    "    input_dim=word_embedding_data.shape[0],\n",
    "    output_dim=word_embedding_data.shape[1],\n",
    "    weights=[word_embedding_data],\n",
    "    input_length=WORD_SEQ_LEN,\n",
    "    trainable=False\n",
    ")\n",
    "\n",
    "word_vector1 = embedding_layer(word_input1)\n",
    "word_vector2 = embedding_layer(word_input2)\n",
    "\n",
    "lstm_layer = LSTM(lstm_size, dropout=drop_rate, recurrent_dropout=drop_rate)\n",
    "word_output1 = lstm_layer(word_vector1)\n",
    "word_output2 = lstm_layer(word_vector2)\n",
    "\n",
    "word = concatenate([word_output1, word_output2])\n",
    "\n",
    "# diff = Lambda(lambda x: x[0] - x[1], output_shape=(lstm_size,))([word_output1, word_output2])\n",
    "# mult = Lambda(lambda x: x[0] * x[1], output_shape=(lstm_size,))([word_output1, word_output2])\n",
    "# word = concatenate([diff, mult])\n",
    "\n",
    "x = Dropout(drop_rate)(word)\n",
    "x = BatchNormalization()(x)\n",
    "\n",
    "x = Dense(dense_size, activation=\"relu\")(x)\n",
    "x = Dropout(drop_rate)(x)\n",
    "x = BatchNormalization()(x)\n",
    "\n",
    "pred = Dense(1, activation=\"sigmoid\")(x)\n",
    "\n",
    "model = Model(inputs=[word_input1, word_input2], outputs=pred)\n",
    "model.compile(\n",
    "    optimizer=Adam(lr=0.001),\n",
    "    loss=\"binary_crossentropy\",\n",
    "    metrics=[\"acc\"]\n",
    ")\n",
    "\n",
    "lr_reducer = ReduceLROnPlateau(monitor='val_loss', mode=\"min\", factor=0.33, patience=3, min_lr=0.0001)\n",
    "early_stop = EarlyStopping(\"val_loss\", patience=10)\n",
    "check_point = ModelCheckpoint(\n",
    "    \"./log/%s.lstm.{epoch:03d}.hdf5\" % (datetime.now().strftime(\"%Y%m%d-%H%M%S\")),\n",
    "    monitor=\"val_loss\",\n",
    "    save_best_only=True,\n",
    "    save_weights_only=True\n",
    ")\n",
    "\n",
    "train_res = model.fit(\n",
    "    x=[train_word1, train_word2],\n",
    "    y=train_y,\n",
    "    batch_size=batch_size,\n",
    "    epochs=num_epoch,\n",
    "    validation_data=([dev_word1, dev_word2], dev_y),\n",
    "    shuffle=True,\n",
    "    callbacks=[lr_reducer, early_stop, check_point]\n",
    ")\n",
    "\n",
    "print(\"load model %s\" % (glob(\"./log/*.hdf5\")[-1].replace(\"\\\\\", \"/\"),))\n",
    "model.load_weights(glob(\"./log/*.hdf5\")[-1].replace(\"\\\\\", \"/\"))\n",
    "\n",
    "test_pred = model.predict([test_word1, test_word2], batch_size=batch_size)\n",
    "pd.DataFrame(test_pred, columns=[\"y_pre\"]).to_csv(\"./result/pred.csv\", index=False)"
   ]
  },
  {
   "cell_type": "code",
   "execution_count": 10,
   "metadata": {
    "collapsed": true
   },
   "outputs": [],
   "source": [
    "# from keras.layers import Input, Embedding, LSTM, Dropout, BatchNormalization, Dense, Lambda\n",
    "# from keras.layers.merge import concatenate\n",
    "# from keras.models import Model\n",
    "# from keras.optimizers import Adam\n",
    "# from keras.callbacks import EarlyStopping, ModelCheckpoint\n",
    "\n",
    "# from sklearn.model_selection import StratifiedKFold\n",
    "\n",
    "# lstm_size = 256\n",
    "# drop_rate = 0.3\n",
    "# dense_size = 300\n",
    "# num_epoch = 100\n",
    "# batch_size = 2048\n",
    "\n",
    "# label = train_data[\"label\"].values\n",
    "\n",
    "# preds = []\n",
    "\n",
    "# for i, (train_index, dev_index) in enumerate(StratifiedKFold(n_splits=10).split(X=word1, y=label)):\n",
    "#     train_word1, train_word2, train_y = word1[train_index, :], word2[train_index, :], label[train_index]\n",
    "#     dev_word1, dev_word2, dev_y = word1[dev_index, :], word2[dev_index, :], label[dev_index]\n",
    "    \n",
    "#     word_input1 = Input(shape=(WORD_SEQ_LEN,), dtype=\"int32\")\n",
    "#     word_input2 = Input(shape=(WORD_SEQ_LEN,), dtype=\"int32\")\n",
    "\n",
    "#     embedding_layer = Embedding(\n",
    "#         input_dim=word_embedding_data.shape[0],\n",
    "#         output_dim=word_embedding_data.shape[1],\n",
    "#         weights=[word_embedding_data],\n",
    "#         input_length=WORD_SEQ_LEN,\n",
    "#         trainable=False\n",
    "#     )\n",
    "\n",
    "#     word_vector1 = embedding_layer(word_input1)\n",
    "#     word_vector2 = embedding_layer(word_input2)\n",
    "\n",
    "#     lstm_layer = LSTM(lstm_size, dropout=drop_rate, recurrent_dropout=drop_rate)\n",
    "#     word_output1 = lstm_layer(word_vector1)\n",
    "#     word_output2 = lstm_layer(word_vector2)\n",
    "#     word = concatenate([word_output1, word_output2])\n",
    "    \n",
    "# #     diff = Lambda(lambda x: x[0] - x[1], output_shape=(lstm_size,))([word_output1, word_output2])\n",
    "# #     mult = Lambda(lambda x: x[0] * x[1], output_shape=(lstm_size,))([word_output1, word_output2])\n",
    "# #     word = concatenate([diff, mult])\n",
    "\n",
    "#     x = Dropout(drop_rate)(word)\n",
    "#     x = BatchNormalization()(x)\n",
    "\n",
    "#     x = Dense(dense_size, activation=\"relu\")(x)\n",
    "#     x = Dropout(drop_rate)(x)\n",
    "#     x = BatchNormalization()(x)\n",
    "\n",
    "#     pred = Dense(1, activation=\"sigmoid\")(x)\n",
    "\n",
    "#     model = Model(inputs=[word_input1, word_input2], outputs=pred)\n",
    "#     model.compile(optimizer=\"nadam\", loss=\"binary_crossentropy\", metrics=[\"acc\"])\n",
    "\n",
    "#     early_stop = EarlyStopping(\"val_loss\", patience=10)\n",
    "#     check_point = ModelCheckpoint(\n",
    "#         \"./log/lstm_%02d.{epoch:02d}_{val_loss:.3f}.hdf5\" % (i + 1),\n",
    "#         monitor=\"val_loss\",\n",
    "#         save_best_only=True,\n",
    "#         save_weights_only=True\n",
    "#     )\n",
    "\n",
    "#     train_res = model.fit(\n",
    "#         x=[train_word1, train_word2],\n",
    "#         y=train_y,\n",
    "#         batch_size=batch_size,\n",
    "#         epochs=num_epoch,\n",
    "#         validation_data=([dev_word1, dev_word2], dev_y),\n",
    "#         shuffle=True,\n",
    "#         callbacks=[early_stop, check_point]\n",
    "#     )\n",
    "    \n",
    "#     print(\"load model %s\" % (glob(\"./log/*.hdf5\")[-1].replace(\"\\\\\", \"/\"),))\n",
    "#     model.load_weights(glob(\"./log/*.hdf5\")[-1].replace(\"\\\\\", \"/\"))\n",
    "\n",
    "#     test_pred = model.predict([test_word1, test_word2], batch_size=batch_size)\n",
    "#     preds.append(pd.DataFrame(test_pred, columns=[\"y_pre\"]))\n",
    "\n",
    "# pd.DataFrame(pd.concat(preds, axis=1).mean(axis=1), columns=[\"y_pre\"]).to_csv(\"./result/pred.csv\", index=False)"
   ]
  }
 ],
 "metadata": {
  "kernelspec": {
   "display_name": "Python 3",
   "language": "python",
   "name": "python3"
  },
  "language_info": {
   "codemirror_mode": {
    "name": "ipython",
    "version": 3
   },
   "file_extension": ".py",
   "mimetype": "text/x-python",
   "name": "python",
   "nbconvert_exporter": "python",
   "pygments_lexer": "ipython3",
   "version": "3.6.2"
  }
 },
 "nbformat": 4,
 "nbformat_minor": 2
}
