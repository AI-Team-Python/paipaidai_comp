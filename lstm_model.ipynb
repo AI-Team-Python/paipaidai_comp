{
 "cells": [
  {
   "cell_type": "code",
   "execution_count": 1,
   "metadata": {},
   "outputs": [],
   "source": [
    "%matplotlib inline\n",
    "import warnings\n",
    "warnings.filterwarnings(\"ignore\")\n",
    "\n",
    "import numpy as np\n",
    "import pandas as pd\n",
    "import tensorflow as tf"
   ]
  },
  {
   "cell_type": "code",
   "execution_count": 2,
   "metadata": {},
   "outputs": [],
   "source": [
    "DATA_PATH = \"./ppd_data/\"\n",
    "TRAIN_PATH = DATA_PATH + \"train.csv\"\n",
    "TEST_PATH = DATA_PATH + \"test.csv\"\n",
    "WORD_EMBED_PATH = DATA_PATH + \"word_embed.txt\"\n",
    "CHAR_EMBED_PATH = DATA_PATH + \"char_embed.txt\"\n",
    "QUEST_PATH = DATA_PATH + \"question.csv\"\n",
    "\n",
    "SEED = 2018"
   ]
  },
  {
   "cell_type": "code",
   "execution_count": 3,
   "metadata": {},
   "outputs": [],
   "source": [
    "train_data = pd.read_csv(TRAIN_PATH)\n",
    "test_data = pd.read_csv(TEST_PATH)\n",
    "question_data = pd.read_csv(QUEST_PATH)\n",
    "word_embedding_data = pd.read_csv(WORD_EMBED_PATH, delimiter=\" \", header=None, index_col=0)\n",
    "char_embedding_data = pd.read_csv(CHAR_EMBED_PATH, delimiter=\" \", header=None, index_col=0)"
   ]
  },
  {
   "cell_type": "code",
   "execution_count": 4,
   "metadata": {},
   "outputs": [],
   "source": [
    "question_data[\"words\"] = question_data[\"words\"].str.split(\" \")\n",
    "question_data[\"chars\"] = question_data[\"chars\"].str.split(\" \")"
   ]
  },
  {
   "cell_type": "code",
   "execution_count": 5,
   "metadata": {},
   "outputs": [
    {
     "data": {
      "text/plain": [
       "(20890, 3048)"
      ]
     },
     "execution_count": 5,
     "metadata": {},
     "output_type": "execute_result"
    }
   ],
   "source": [
    "from gensim.corpora import Dictionary\n",
    "\n",
    "word_dict = Dictionary(question_data[\"words\"])\n",
    "char_dict = Dictionary(question_data[\"chars\"])\n",
    "\n",
    "num_words, num_chars = len(word_dict.dfs), len(char_dict.dfs)\n",
    "num_words, num_chars"
   ]
  },
  {
   "cell_type": "code",
   "execution_count": 6,
   "metadata": {},
   "outputs": [],
   "source": [
    "def adjust_embedding(embedding, corp_dict):\n",
    "    index = sorted([k for k, v in corp_dict.token2id.items()], key=lambda x: corp_dict.token2id[x])\n",
    "    return embedding.reindex(index).values"
   ]
  },
  {
   "cell_type": "code",
   "execution_count": 7,
   "metadata": {},
   "outputs": [],
   "source": [
    "word_embedding_data = adjust_embedding(word_embedding_data, word_dict)\n",
    "char_embedding_data = adjust_embedding(char_embedding_data, word_dict)"
   ]
  },
  {
   "cell_type": "code",
   "execution_count": 8,
   "metadata": {},
   "outputs": [],
   "source": [
    "def pad_embedding(embedding, method=\"mean\"):\n",
    "    new_vector = np.zeros(embedding.shape[1], dtype=np.float32)\n",
    "    if method == \"mean\":\n",
    "        new_vector = embedding.mean(axis=0)\n",
    "    return np.concatenate((embedding, new_vector.reshape((1, -1))), axis=0)"
   ]
  },
  {
   "cell_type": "code",
   "execution_count": 9,
   "metadata": {},
   "outputs": [
    {
     "name": "stdout",
     "output_type": "stream",
     "text": [
      "former word embedding matrix shape: (20890, 300)\n",
      "final word embedding matrix shape: (20891, 300)\n",
      "former char embedding matrix shape: (20890, 300)\n",
      "final char embedding matrix shape: (20891, 300)\n"
     ]
    }
   ],
   "source": [
    "print(f\"former word embedding matrix shape: {word_embedding_data.shape}\")\n",
    "word_embedding_data = pad_embedding(word_embedding_data, method=\"zero\")\n",
    "print(f\"final word embedding matrix shape: {word_embedding_data.shape}\")\n",
    "\n",
    "print(f\"former char embedding matrix shape: {char_embedding_data.shape}\")\n",
    "char_embedding_data = pad_embedding(char_embedding_data, method=\"zero\")\n",
    "print(f\"final char embedding matrix shape: {char_embedding_data.shape}\")"
   ]
  },
  {
   "cell_type": "code",
   "execution_count": 22,
   "metadata": {},
   "outputs": [
    {
     "data": {
      "text/plain": [
       "(['W17378', 'W19355', 'W16319', 'W18238', 'W18103'],\n",
       " ['L0104',\n",
       "  'L2214',\n",
       "  'L1861',\n",
       "  'L2582',\n",
       "  'L3019',\n",
       "  'L0143',\n",
       "  'L2218',\n",
       "  'L1132',\n",
       "  'L1128',\n",
       "  'L0362',\n",
       "  'L1187'])"
      ]
     },
     "execution_count": 22,
     "metadata": {},
     "output_type": "execute_result"
    }
   ],
   "source": [
    "T_STOP = 100000\n",
    "USE_STOP = True\n",
    "\n",
    "word_count = sorted([(token, word_dict.dfs[id_]) for token, id_ in word_dict.token2id.items()],\n",
    "                    key=lambda x: x[1], reverse=True)\n",
    "char_count = sorted([(token, char_dict.dfs[id_]) for token, id_ in char_dict.token2id.items()],\n",
    "                    key=lambda x: x[1], reverse=True)\n",
    "\n",
    "word_stop = [token for token, count in word_count if count >= T_STOP]\n",
    "char_stop = [token for token, count in char_count if count >= T_STOP]\n",
    "word_stop, char_stop"
   ]
  },
  {
   "cell_type": "code",
   "execution_count": 34,
   "metadata": {},
   "outputs": [],
   "source": [
    "def pair2vec(pair, question, use_stop=USE_STOP):\n",
    "    return ques2vec(pair[[\"q1\"]].rename(columns={\"q1\": \"qid\"}), question, use_stop) + \\\n",
    "           ques2vec(pair[[\"q2\"]].rename(columns={\"q2\": \"qid\"}), question, use_stop)\n",
    "    \n",
    "def ques2vec(ques, question, use_stop=True):\n",
    "    q = ques.merge(question, how=\"left\", on=\"qid\")\n",
    "    return seq2vec(q, \"words\", use_stop), seq2vec(q, \"chars\", use_stop)\n",
    "    \n",
    "def seq2vec(ques, col, use_stop=True):\n",
    "    seq = ques[col]\n",
    "    if col == \"words\":\n",
    "        d = word_dict.token2id\n",
    "        s = word_stop\n",
    "    else:\n",
    "        d = char_dict.token2id\n",
    "        s = char_stop\n",
    "    \n",
    "    if use_stop:\n",
    "        return [[d[token] for token in text if token not in s] for text in seq]\n",
    "    else:\n",
    "        return [[d[token] for token in text] for text in seq]"
   ]
  },
  {
   "cell_type": "code",
   "execution_count": 41,
   "metadata": {},
   "outputs": [],
   "source": [
    "train_word1, train_word2, train_char1, train_char2 = pair2vec(train_data, question_data)\n",
    "test_word1, test_word2, test_char1, test_char2 = pair2vec(test_data, question_data)"
   ]
  },
  {
   "cell_type": "code",
   "execution_count": 47,
   "metadata": {},
   "outputs": [],
   "source": [
    "T_WORD = 6\n",
    "T_CHAR = 10\n",
    "\n",
    "def sample_padding(texts, length, pad_index, cut_method=\"direct\"):\n",
    "    texts = np.array(texts)\n",
    "    np.apply_along_axis\n",
    "    return texts"
   ]
  },
  {
   "cell_type": "code",
   "execution_count": 48,
   "metadata": {},
   "outputs": [
    {
     "data": {
      "text/plain": [
       "array([list([112, 778, 0, 292]), list([138, 79, 196, 35]),\n",
       "       list([29, 58, 1617, 119, 2]), ..., list([1, 40, 60, 190, 61]),\n",
       "       list([321, 986, 43, 72, 448]), list([1021, 758, 1539, 39])],\n",
       "      dtype=object)"
      ]
     },
     "execution_count": 48,
     "metadata": {},
     "output_type": "execute_result"
    }
   ],
   "source": [
    "sample_padding(train_word1, T_WORD, len(word_dict.dfs))"
   ]
  },
  {
   "cell_type": "code",
   "execution_count": null,
   "metadata": {},
   "outputs": [],
   "source": []
  }
 ],
 "metadata": {
  "kernelspec": {
   "display_name": "Python 3",
   "language": "python",
   "name": "python3"
  },
  "language_info": {
   "codemirror_mode": {
    "name": "ipython",
    "version": 3
   },
   "file_extension": ".py",
   "mimetype": "text/x-python",
   "name": "python",
   "nbconvert_exporter": "python",
   "pygments_lexer": "ipython3",
   "version": "3.6.5"
  }
 },
 "nbformat": 4,
 "nbformat_minor": 2
}
