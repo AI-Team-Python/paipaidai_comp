{
 "cells": [
  {
   "cell_type": "code",
   "execution_count": 1,
   "metadata": {},
   "outputs": [],
   "source": [
    "%matplotlib inline\n",
    "\n",
    "import numpy as np\n",
    "import pandas as pd\n",
    "import matplotlib.pyplot as plt"
   ]
  },
  {
   "cell_type": "code",
   "execution_count": 2,
   "metadata": {},
   "outputs": [],
   "source": [
    "DATA_PATH = \"./ppd_data/\"\n",
    "TRAIN_PATH = DATA_PATH + \"train.csv\"\n",
    "TEST_PATH = DATA_PATH + \"test.csv\"\n",
    "WORD_EMBED_PATH = DATA_PATH + \"word_embed.txt\"\n",
    "CHAR_EMBED_PATH = DATA_PATH + \"cahr_embed.txt\"\n",
    "QUEST_PATH = DATA_PATH + \"question.csv\""
   ]
  },
  {
   "cell_type": "code",
   "execution_count": 3,
   "metadata": {},
   "outputs": [
    {
     "data": {
      "text/html": [
       "<div>\n",
       "<style scoped>\n",
       "    .dataframe tbody tr th:only-of-type {\n",
       "        vertical-align: middle;\n",
       "    }\n",
       "\n",
       "    .dataframe tbody tr th {\n",
       "        vertical-align: top;\n",
       "    }\n",
       "\n",
       "    .dataframe thead th {\n",
       "        text-align: right;\n",
       "    }\n",
       "</style>\n",
       "<table border=\"1\" class=\"dataframe\">\n",
       "  <thead>\n",
       "    <tr style=\"text-align: right;\">\n",
       "      <th></th>\n",
       "      <th>qid</th>\n",
       "      <th>words</th>\n",
       "      <th>chars</th>\n",
       "    </tr>\n",
       "  </thead>\n",
       "  <tbody>\n",
       "    <tr>\n",
       "      <th>0</th>\n",
       "      <td>Q000000</td>\n",
       "      <td>W05733 W05284 W09158 W14968 W07863</td>\n",
       "      <td>L1128 L1861 L2218 L1796 L1055 L0847 L2927</td>\n",
       "    </tr>\n",
       "    <tr>\n",
       "      <th>1</th>\n",
       "      <td>Q000001</td>\n",
       "      <td>W17378 W17534 W03249 W01490 W18802</td>\n",
       "      <td>L2214 L1980 L0156 L1554 L2218 L1861 L3019 L010...</td>\n",
       "    </tr>\n",
       "    <tr>\n",
       "      <th>2</th>\n",
       "      <td>Q000002</td>\n",
       "      <td>W17378 W08158 W20171 W11246 W14759</td>\n",
       "      <td>L2214 L2350 L2568 L1969 L2168 L0694 L3012 L256...</td>\n",
       "    </tr>\n",
       "    <tr>\n",
       "      <th>3</th>\n",
       "      <td>Q000003</td>\n",
       "      <td>W11385 W14103 W02556 W13157 W09749</td>\n",
       "      <td>L0762 L2172 L1971 L2034 L2039 L2271 L1346 L223...</td>\n",
       "    </tr>\n",
       "    <tr>\n",
       "      <th>4</th>\n",
       "      <td>Q000004</td>\n",
       "      <td>W17508 W18238 W02952 W18103</td>\n",
       "      <td>L0018 L2321 L1346 L3019 L0104 L0902 L0354 L0362</td>\n",
       "    </tr>\n",
       "  </tbody>\n",
       "</table>\n",
       "</div>"
      ],
      "text/plain": [
       "       qid                               words  \\\n",
       "0  Q000000  W05733 W05284 W09158 W14968 W07863   \n",
       "1  Q000001  W17378 W17534 W03249 W01490 W18802   \n",
       "2  Q000002  W17378 W08158 W20171 W11246 W14759   \n",
       "3  Q000003  W11385 W14103 W02556 W13157 W09749   \n",
       "4  Q000004         W17508 W18238 W02952 W18103   \n",
       "\n",
       "                                               chars  \n",
       "0          L1128 L1861 L2218 L1796 L1055 L0847 L2927  \n",
       "1  L2214 L1980 L0156 L1554 L2218 L1861 L3019 L010...  \n",
       "2  L2214 L2350 L2568 L1969 L2168 L0694 L3012 L256...  \n",
       "3  L0762 L2172 L1971 L2034 L2039 L2271 L1346 L223...  \n",
       "4    L0018 L2321 L1346 L3019 L0104 L0902 L0354 L0362  "
      ]
     },
     "execution_count": 3,
     "metadata": {},
     "output_type": "execute_result"
    }
   ],
   "source": [
    "questions = pd.read_csv(QUEST_PATH)\n",
    "questions.head()"
   ]
  },
  {
   "cell_type": "code",
   "execution_count": 4,
   "metadata": {},
   "outputs": [
    {
     "data": {
      "text/html": [
       "<div>\n",
       "<style scoped>\n",
       "    .dataframe tbody tr th:only-of-type {\n",
       "        vertical-align: middle;\n",
       "    }\n",
       "\n",
       "    .dataframe tbody tr th {\n",
       "        vertical-align: top;\n",
       "    }\n",
       "\n",
       "    .dataframe thead th {\n",
       "        text-align: right;\n",
       "    }\n",
       "</style>\n",
       "<table border=\"1\" class=\"dataframe\">\n",
       "  <thead>\n",
       "    <tr style=\"text-align: right;\">\n",
       "      <th></th>\n",
       "      <th>label</th>\n",
       "      <th>q1</th>\n",
       "      <th>q2</th>\n",
       "    </tr>\n",
       "  </thead>\n",
       "  <tbody>\n",
       "    <tr>\n",
       "      <th>0</th>\n",
       "      <td>1</td>\n",
       "      <td>Q397345</td>\n",
       "      <td>Q538594</td>\n",
       "    </tr>\n",
       "    <tr>\n",
       "      <th>1</th>\n",
       "      <td>0</td>\n",
       "      <td>Q193805</td>\n",
       "      <td>Q699273</td>\n",
       "    </tr>\n",
       "    <tr>\n",
       "      <th>2</th>\n",
       "      <td>0</td>\n",
       "      <td>Q085471</td>\n",
       "      <td>Q676160</td>\n",
       "    </tr>\n",
       "    <tr>\n",
       "      <th>3</th>\n",
       "      <td>0</td>\n",
       "      <td>Q189314</td>\n",
       "      <td>Q438123</td>\n",
       "    </tr>\n",
       "    <tr>\n",
       "      <th>4</th>\n",
       "      <td>0</td>\n",
       "      <td>Q267714</td>\n",
       "      <td>Q290126</td>\n",
       "    </tr>\n",
       "  </tbody>\n",
       "</table>\n",
       "</div>"
      ],
      "text/plain": [
       "   label       q1       q2\n",
       "0      1  Q397345  Q538594\n",
       "1      0  Q193805  Q699273\n",
       "2      0  Q085471  Q676160\n",
       "3      0  Q189314  Q438123\n",
       "4      0  Q267714  Q290126"
      ]
     },
     "execution_count": 4,
     "metadata": {},
     "output_type": "execute_result"
    }
   ],
   "source": [
    "train_data = pd.read_csv(TRAIN_PATH)\n",
    "train_data.head()"
   ]
  },
  {
   "cell_type": "code",
   "execution_count": 5,
   "metadata": {},
   "outputs": [
    {
     "data": {
      "text/html": [
       "<div>\n",
       "<style scoped>\n",
       "    .dataframe tbody tr th:only-of-type {\n",
       "        vertical-align: middle;\n",
       "    }\n",
       "\n",
       "    .dataframe tbody tr th {\n",
       "        vertical-align: top;\n",
       "    }\n",
       "\n",
       "    .dataframe thead th {\n",
       "        text-align: right;\n",
       "    }\n",
       "</style>\n",
       "<table border=\"1\" class=\"dataframe\">\n",
       "  <thead>\n",
       "    <tr style=\"text-align: right;\">\n",
       "      <th></th>\n",
       "      <th>q1</th>\n",
       "      <th>q2</th>\n",
       "    </tr>\n",
       "  </thead>\n",
       "  <tbody>\n",
       "    <tr>\n",
       "      <th>0</th>\n",
       "      <td>Q017571</td>\n",
       "      <td>Q006012</td>\n",
       "    </tr>\n",
       "    <tr>\n",
       "      <th>1</th>\n",
       "      <td>Q728241</td>\n",
       "      <td>Q542572</td>\n",
       "    </tr>\n",
       "    <tr>\n",
       "      <th>2</th>\n",
       "      <td>Q166997</td>\n",
       "      <td>Q118270</td>\n",
       "    </tr>\n",
       "    <tr>\n",
       "      <th>3</th>\n",
       "      <td>Q422420</td>\n",
       "      <td>Q514386</td>\n",
       "    </tr>\n",
       "    <tr>\n",
       "      <th>4</th>\n",
       "      <td>Q354329</td>\n",
       "      <td>Q032485</td>\n",
       "    </tr>\n",
       "  </tbody>\n",
       "</table>\n",
       "</div>"
      ],
      "text/plain": [
       "        q1       q2\n",
       "0  Q017571  Q006012\n",
       "1  Q728241  Q542572\n",
       "2  Q166997  Q118270\n",
       "3  Q422420  Q514386\n",
       "4  Q354329  Q032485"
      ]
     },
     "execution_count": 5,
     "metadata": {},
     "output_type": "execute_result"
    }
   ],
   "source": [
    "test_data = pd.read_csv(TEST_PATH)\n",
    "test_data.head()"
   ]
  },
  {
   "cell_type": "markdown",
   "metadata": {},
   "source": [
    "# Analyse\n",
    "\n",
    "the basic information of both train data and test data.\n",
    "\n",
    "conclusion:\n",
    "\n",
    "1. data is balanced"
   ]
  },
  {
   "cell_type": "code",
   "execution_count": 6,
   "metadata": {
    "scrolled": true
   },
   "outputs": [
    {
     "name": "stdout",
     "output_type": "stream",
     "text": [
      "number of train question pairs: 254386\n",
      "number of train unique first question: 112296, with rate: 0.4414393873876707\n",
      "number of train unique second question: 112404, with rate: 0.4418639390532498\n",
      "total number of train question: 192633\n",
      "positive pair number: 132054, negative pair number: 122332, positive rate: 0.519\n"
     ]
    }
   ],
   "source": [
    "print(\"number of train question pairs:\", len(train_data))\n",
    "print(\"number of train unique first question: %s, with rate: %s\" % \n",
    "      (len(train_data[\"q1\"].unique()), len(train_data[\"q1\"].unique()) / len(train_data)))\n",
    "print(\"number of train unique second question: %s, with rate: %s\" % \n",
    "      (len(train_data[\"q2\"].unique()), len(train_data[\"q2\"].unique()) / len(train_data)))\n",
    "\n",
    "train_unique_q = np.concatenate([train_data[\"q2\"].unique(), train_data[\"q1\"].unique()])\n",
    "train_unique_q = np.unique(train_unique_q)\n",
    "print(\"total number of train question:\", len(train_unique_q))\n",
    "\n",
    "pos_mask = train_data[\"label\"] == 1\n",
    "neg_mask = train_data[\"label\"] == 0\n",
    "print(\"positive pair number: %s, negative pair number: %s, positive rate: %.3f\" %\n",
    "      (pos_mask.sum(), neg_mask.sum(), pos_mask.sum() / len(train_data)))"
   ]
  },
  {
   "cell_type": "code",
   "execution_count": 7,
   "metadata": {},
   "outputs": [
    {
     "name": "stdout",
     "output_type": "stream",
     "text": [
      "number of test question pairs: 172956\n",
      "number of test unique first question: 131768, with rate: 0.7618585073660353\n",
      "number of test unique second question: 131496, with rate: 0.7602858530493305\n",
      "total number of test question: 248773\n"
     ]
    }
   ],
   "source": [
    "print(\"number of test question pairs:\", len(test_data))\n",
    "print(\"number of test unique first question: %s, with rate: %s\" % \n",
    "      (len(test_data[\"q1\"].unique()), len(test_data[\"q1\"].unique()) / len(test_data)))\n",
    "print(\"number of test unique second question: %s, with rate: %s\" % \n",
    "      (len(test_data[\"q2\"].unique()), len(test_data[\"q2\"].unique()) / len(test_data)))\n",
    "\n",
    "test_unique_q = np.concatenate([test_data[\"q2\"].unique(), test_data[\"q1\"].unique()])\n",
    "test_unique_q = np.unique(test_unique_q)\n",
    "print(\"total number of test question:\", len(test_unique_q))"
   ]
  },
  {
   "cell_type": "code",
   "execution_count": 8,
   "metadata": {},
   "outputs": [
    {
     "name": "stdout",
     "output_type": "stream",
     "text": [
      "[('Q489328', 112), ('Q119369', 109), ('Q632400', 109), ('Q382228', 108), ('Q081677', 107), ('Q555455', 107), ('Q149996', 105), ('Q436579', 105), ('Q143237', 105), ('Q424359', 104)]\n",
      "[('Q066137', 34), ('Q209532', 31), ('Q526780', 31), ('Q665740', 29), ('Q405292', 28), ('Q092597', 28), ('Q195819', 26), ('Q150486', 26), ('Q263180', 26), ('Q492945', 25)]\n"
     ]
    }
   ],
   "source": [
    "from collections import Counter\n",
    "\n",
    "train_question = np.concatenate([train_data[\"q1\"], train_data[\"q2\"]])\n",
    "test_question = np.concatenate([test_data[\"q1\"], test_data[\"q2\"]])\n",
    "train_counter = Counter(train_question)\n",
    "test_counter = Counter(test_question)\n",
    "print(train_counter.most_common(10))\n",
    "print(test_counter.most_common(10))"
   ]
  },
  {
   "cell_type": "code",
   "execution_count": 9,
   "metadata": {},
   "outputs": [
    {
     "name": "stdout",
     "output_type": "stream",
     "text": [
      "the number of questions in both train and test: 34815\n"
     ]
    }
   ],
   "source": [
    "both = []\n",
    "for q in train_counter:\n",
    "    if q in test_counter:\n",
    "        both.append(q)\n",
    "print(\"the number of questions in both train and test:\", len(both))"
   ]
  },
  {
   "cell_type": "markdown",
   "metadata": {},
   "source": [
    "**there may be some tricks to improve lb performence with these duplicated question.**"
   ]
  },
  {
   "cell_type": "code",
   "execution_count": 10,
   "metadata": {},
   "outputs": [],
   "source": [
    "words = questions[\"words\"].str.split(\" \").tolist()\n",
    "chars = questions[\"chars\"].str.split(\" \").tolist()"
   ]
  },
  {
   "cell_type": "code",
   "execution_count": 11,
   "metadata": {},
   "outputs": [],
   "source": [
    "from gensim.corpora import Dictionary\n",
    "\n",
    "word_dict = Dictionary(words)\n",
    "char_dict = Dictionary(chars)"
   ]
  },
  {
   "cell_type": "code",
   "execution_count": 12,
   "metadata": {},
   "outputs": [
    {
     "name": "stdout",
     "output_type": "stream",
     "text": [
      "number of words: 20890, number of chars: 3048\n"
     ]
    }
   ],
   "source": [
    "print(\"number of words: %d, number of chars: %d\" % (len(word_dict.dfs), len(char_dict.dfs)))"
   ]
  },
  {
   "cell_type": "code",
   "execution_count": 13,
   "metadata": {
    "scrolled": true
   },
   "outputs": [
    {
     "data": {
      "text/html": [
       "<div>\n",
       "<style scoped>\n",
       "    .dataframe tbody tr th:only-of-type {\n",
       "        vertical-align: middle;\n",
       "    }\n",
       "\n",
       "    .dataframe tbody tr th {\n",
       "        vertical-align: top;\n",
       "    }\n",
       "\n",
       "    .dataframe thead th {\n",
       "        text-align: right;\n",
       "    }\n",
       "</style>\n",
       "<table border=\"1\" class=\"dataframe\">\n",
       "  <thead>\n",
       "    <tr style=\"text-align: right;\">\n",
       "      <th></th>\n",
       "      <th>count</th>\n",
       "      <th>prop</th>\n",
       "    </tr>\n",
       "  </thead>\n",
       "  <tbody>\n",
       "    <tr>\n",
       "      <th>7</th>\n",
       "      <td>225209</td>\n",
       "      <td>15.458563</td>\n",
       "    </tr>\n",
       "    <tr>\n",
       "      <th>27</th>\n",
       "      <td>151787</td>\n",
       "      <td>10.418806</td>\n",
       "    </tr>\n",
       "    <tr>\n",
       "      <th>36</th>\n",
       "      <td>147457</td>\n",
       "      <td>10.121591</td>\n",
       "    </tr>\n",
       "    <tr>\n",
       "      <th>22</th>\n",
       "      <td>127924</td>\n",
       "      <td>8.780827</td>\n",
       "    </tr>\n",
       "    <tr>\n",
       "      <th>21</th>\n",
       "      <td>112820</td>\n",
       "      <td>7.744074</td>\n",
       "    </tr>\n",
       "    <tr>\n",
       "      <th>1</th>\n",
       "      <td>92782</td>\n",
       "      <td>6.368646</td>\n",
       "    </tr>\n",
       "    <tr>\n",
       "      <th>64</th>\n",
       "      <td>90549</td>\n",
       "      <td>6.215371</td>\n",
       "    </tr>\n",
       "    <tr>\n",
       "      <th>2</th>\n",
       "      <td>80819</td>\n",
       "      <td>5.547494</td>\n",
       "    </tr>\n",
       "    <tr>\n",
       "      <th>5</th>\n",
       "      <td>74949</td>\n",
       "      <td>5.144572</td>\n",
       "    </tr>\n",
       "    <tr>\n",
       "      <th>0</th>\n",
       "      <td>71344</td>\n",
       "      <td>4.897121</td>\n",
       "    </tr>\n",
       "  </tbody>\n",
       "</table>\n",
       "</div>"
      ],
      "text/plain": [
       "     count       prop\n",
       "7   225209  15.458563\n",
       "27  151787  10.418806\n",
       "36  147457  10.121591\n",
       "22  127924   8.780827\n",
       "21  112820   7.744074\n",
       "1    92782   6.368646\n",
       "64   90549   6.215371\n",
       "2    80819   5.547494\n",
       "5    74949   5.144572\n",
       "0    71344   4.897121"
      ]
     },
     "execution_count": 13,
     "metadata": {},
     "output_type": "execute_result"
    }
   ],
   "source": [
    "word_series = pd.Series(list(word_dict.dfs.values()), index=list(word_dict.dfs.keys()), name=\"count\").sort_values(ascending=False)\n",
    "word_prop = word_series / len(questions) / 2 * 100\n",
    "word_prop.name = \"prop\"\n",
    "word_df = pd.concat([word_series, word_prop], axis=1)\n",
    "word_df.head(10)"
   ]
  },
  {
   "cell_type": "code",
   "execution_count": 14,
   "metadata": {
    "scrolled": true
   },
   "outputs": [
    {
     "data": {
      "text/html": [
       "<div>\n",
       "<style scoped>\n",
       "    .dataframe tbody tr th:only-of-type {\n",
       "        vertical-align: middle;\n",
       "    }\n",
       "\n",
       "    .dataframe tbody tr th {\n",
       "        vertical-align: top;\n",
       "    }\n",
       "\n",
       "    .dataframe thead th {\n",
       "        text-align: right;\n",
       "    }\n",
       "</style>\n",
       "<table border=\"1\" class=\"dataframe\">\n",
       "  <thead>\n",
       "    <tr style=\"text-align: right;\">\n",
       "      <th></th>\n",
       "      <th>count</th>\n",
       "      <th>prop</th>\n",
       "    </tr>\n",
       "  </thead>\n",
       "  <tbody>\n",
       "    <tr>\n",
       "      <th>7</th>\n",
       "      <td>270887</td>\n",
       "      <td>18.593945</td>\n",
       "    </tr>\n",
       "    <tr>\n",
       "      <th>12</th>\n",
       "      <td>243693</td>\n",
       "      <td>16.727322</td>\n",
       "    </tr>\n",
       "    <tr>\n",
       "      <th>4</th>\n",
       "      <td>212914</td>\n",
       "      <td>14.614622</td>\n",
       "    </tr>\n",
       "    <tr>\n",
       "      <th>56</th>\n",
       "      <td>177513</td>\n",
       "      <td>12.184663</td>\n",
       "    </tr>\n",
       "    <tr>\n",
       "      <th>13</th>\n",
       "      <td>172025</td>\n",
       "      <td>11.807962</td>\n",
       "    </tr>\n",
       "    <tr>\n",
       "      <th>36</th>\n",
       "      <td>164027</td>\n",
       "      <td>11.258971</td>\n",
       "    </tr>\n",
       "    <tr>\n",
       "      <th>5</th>\n",
       "      <td>157696</td>\n",
       "      <td>10.824405</td>\n",
       "    </tr>\n",
       "    <tr>\n",
       "      <th>42</th>\n",
       "      <td>154583</td>\n",
       "      <td>10.610726</td>\n",
       "    </tr>\n",
       "    <tr>\n",
       "      <th>2</th>\n",
       "      <td>130525</td>\n",
       "      <td>8.959362</td>\n",
       "    </tr>\n",
       "    <tr>\n",
       "      <th>32</th>\n",
       "      <td>112820</td>\n",
       "      <td>7.744074</td>\n",
       "    </tr>\n",
       "  </tbody>\n",
       "</table>\n",
       "</div>"
      ],
      "text/plain": [
       "     count       prop\n",
       "7   270887  18.593945\n",
       "12  243693  16.727322\n",
       "4   212914  14.614622\n",
       "56  177513  12.184663\n",
       "13  172025  11.807962\n",
       "36  164027  11.258971\n",
       "5   157696  10.824405\n",
       "42  154583  10.610726\n",
       "2   130525   8.959362\n",
       "32  112820   7.744074"
      ]
     },
     "execution_count": 14,
     "metadata": {},
     "output_type": "execute_result"
    }
   ],
   "source": [
    "char_series = pd.Series(list(char_dict.dfs.values()), index=list(char_dict.dfs.keys()), name=\"count\").sort_values(ascending=False)\n",
    "char_prop = char_series / len(questions) / 2 * 100\n",
    "char_prop.name = \"prop\"\n",
    "char_df = pd.concat([char_series, char_prop], axis=1)\n",
    "char_df.head(10)"
   ]
  },
  {
   "cell_type": "code",
   "execution_count": 15,
   "metadata": {},
   "outputs": [
    {
     "data": {
      "text/html": [
       "<div>\n",
       "<style scoped>\n",
       "    .dataframe tbody tr th:only-of-type {\n",
       "        vertical-align: middle;\n",
       "    }\n",
       "\n",
       "    .dataframe tbody tr th {\n",
       "        vertical-align: top;\n",
       "    }\n",
       "\n",
       "    .dataframe thead th {\n",
       "        text-align: right;\n",
       "    }\n",
       "</style>\n",
       "<table border=\"1\" class=\"dataframe\">\n",
       "  <thead>\n",
       "    <tr style=\"text-align: right;\">\n",
       "      <th></th>\n",
       "      <th>qid</th>\n",
       "      <th>words</th>\n",
       "      <th>chars</th>\n",
       "    </tr>\n",
       "  </thead>\n",
       "  <tbody>\n",
       "    <tr>\n",
       "      <th>0</th>\n",
       "      <td>Q000000</td>\n",
       "      <td>[W05733, W05284, W09158, W14968, W07863]</td>\n",
       "      <td>[L1128, L1861, L2218, L1796, L1055, L0847, L2927]</td>\n",
       "    </tr>\n",
       "    <tr>\n",
       "      <th>1</th>\n",
       "      <td>Q000001</td>\n",
       "      <td>[W17378, W17534, W03249, W01490, W18802]</td>\n",
       "      <td>[L2214, L1980, L0156, L1554, L2218, L1861, L30...</td>\n",
       "    </tr>\n",
       "    <tr>\n",
       "      <th>2</th>\n",
       "      <td>Q000002</td>\n",
       "      <td>[W17378, W08158, W20171, W11246, W14759]</td>\n",
       "      <td>[L2214, L2350, L2568, L1969, L2168, L0694, L30...</td>\n",
       "    </tr>\n",
       "    <tr>\n",
       "      <th>3</th>\n",
       "      <td>Q000003</td>\n",
       "      <td>[W11385, W14103, W02556, W13157, W09749]</td>\n",
       "      <td>[L0762, L2172, L1971, L2034, L2039, L2271, L13...</td>\n",
       "    </tr>\n",
       "    <tr>\n",
       "      <th>4</th>\n",
       "      <td>Q000004</td>\n",
       "      <td>[W17508, W18238, W02952, W18103]</td>\n",
       "      <td>[L0018, L2321, L1346, L3019, L0104, L0902, L03...</td>\n",
       "    </tr>\n",
       "  </tbody>\n",
       "</table>\n",
       "</div>"
      ],
      "text/plain": [
       "       qid                                     words  \\\n",
       "0  Q000000  [W05733, W05284, W09158, W14968, W07863]   \n",
       "1  Q000001  [W17378, W17534, W03249, W01490, W18802]   \n",
       "2  Q000002  [W17378, W08158, W20171, W11246, W14759]   \n",
       "3  Q000003  [W11385, W14103, W02556, W13157, W09749]   \n",
       "4  Q000004          [W17508, W18238, W02952, W18103]   \n",
       "\n",
       "                                               chars  \n",
       "0  [L1128, L1861, L2218, L1796, L1055, L0847, L2927]  \n",
       "1  [L2214, L1980, L0156, L1554, L2218, L1861, L30...  \n",
       "2  [L2214, L2350, L2568, L1969, L2168, L0694, L30...  \n",
       "3  [L0762, L2172, L1971, L2034, L2039, L2271, L13...  \n",
       "4  [L0018, L2321, L1346, L3019, L0104, L0902, L03...  "
      ]
     },
     "execution_count": 15,
     "metadata": {},
     "output_type": "execute_result"
    }
   ],
   "source": [
    "questions[\"words\"] = questions[\"words\"].str.split(\" \")\n",
    "questions[\"chars\"] = questions[\"chars\"].str.split(\" \")\n",
    "questions.head()"
   ]
  },
  {
   "cell_type": "code",
   "execution_count": 16,
   "metadata": {},
   "outputs": [
    {
     "data": {
      "text/html": [
       "<div>\n",
       "<style scoped>\n",
       "    .dataframe tbody tr th:only-of-type {\n",
       "        vertical-align: middle;\n",
       "    }\n",
       "\n",
       "    .dataframe tbody tr th {\n",
       "        vertical-align: top;\n",
       "    }\n",
       "\n",
       "    .dataframe thead th {\n",
       "        text-align: right;\n",
       "    }\n",
       "</style>\n",
       "<table border=\"1\" class=\"dataframe\">\n",
       "  <thead>\n",
       "    <tr style=\"text-align: right;\">\n",
       "      <th></th>\n",
       "      <th>label</th>\n",
       "      <th>q1</th>\n",
       "      <th>q2</th>\n",
       "      <th>w1</th>\n",
       "      <th>c1</th>\n",
       "      <th>w2</th>\n",
       "      <th>c2</th>\n",
       "      <th>wnum1</th>\n",
       "      <th>cnum1</th>\n",
       "      <th>wnum2</th>\n",
       "      <th>cnum2</th>\n",
       "      <th>wboth</th>\n",
       "      <th>cboth</th>\n",
       "    </tr>\n",
       "  </thead>\n",
       "  <tbody>\n",
       "    <tr>\n",
       "      <th>0</th>\n",
       "      <td>1</td>\n",
       "      <td>Q397345</td>\n",
       "      <td>Q538594</td>\n",
       "      <td>[W04465, W04058, W05284, W02916]</td>\n",
       "      <td>[L2218, L2568, L0360, L0242, L2218, L0741]</td>\n",
       "      <td>[W18238, W18843, W01490, W09905]</td>\n",
       "      <td>[L3019, L0104, L0582, L2218, L1861, L1556, L0242]</td>\n",
       "      <td>4</td>\n",
       "      <td>6</td>\n",
       "      <td>4</td>\n",
       "      <td>7</td>\n",
       "      <td>0</td>\n",
       "      <td>3</td>\n",
       "    </tr>\n",
       "    <tr>\n",
       "      <th>1</th>\n",
       "      <td>0</td>\n",
       "      <td>Q193805</td>\n",
       "      <td>Q699273</td>\n",
       "      <td>[W10054, W04476, W09996, W12244, W18103]</td>\n",
       "      <td>[L2376, L2168, L0050, L1187, L0104, L2432, L09...</td>\n",
       "      <td>[W18439, W00863, W04259, W00740, W16070]</td>\n",
       "      <td>[L0156, L2452, L1187, L0104, L2459, L2979, L26...</td>\n",
       "      <td>5</td>\n",
       "      <td>10</td>\n",
       "      <td>5</td>\n",
       "      <td>8</td>\n",
       "      <td>0</td>\n",
       "      <td>2</td>\n",
       "    </tr>\n",
       "    <tr>\n",
       "      <th>2</th>\n",
       "      <td>0</td>\n",
       "      <td>Q085471</td>\n",
       "      <td>Q676160</td>\n",
       "      <td>[W04346, W17378, W19355, W17926, W14185, W1156...</td>\n",
       "      <td>[L2323, L1526, L2214, L1132, L2723, L1861, L22...</td>\n",
       "      <td>[W14586, W09745, W06017, W09067, W16319]</td>\n",
       "      <td>[L2568, L0971, L1291, L0358, L0037, L2582]</td>\n",
       "      <td>7</td>\n",
       "      <td>10</td>\n",
       "      <td>5</td>\n",
       "      <td>6</td>\n",
       "      <td>0</td>\n",
       "      <td>0</td>\n",
       "    </tr>\n",
       "    <tr>\n",
       "      <th>3</th>\n",
       "      <td>0</td>\n",
       "      <td>Q189314</td>\n",
       "      <td>Q438123</td>\n",
       "      <td>[W17508, W09996, W19662, W17534, W11399, W1705...</td>\n",
       "      <td>[L0018, L2321, L1346, L2432, L0902, L1149, L19...</td>\n",
       "      <td>[W18238, W02357, W06606]</td>\n",
       "      <td>[L3019, L0104, L1104, L1935, L1683, L2495, L2812]</td>\n",
       "      <td>8</td>\n",
       "      <td>14</td>\n",
       "      <td>3</td>\n",
       "      <td>7</td>\n",
       "      <td>1</td>\n",
       "      <td>2</td>\n",
       "    </tr>\n",
       "    <tr>\n",
       "      <th>4</th>\n",
       "      <td>0</td>\n",
       "      <td>Q267714</td>\n",
       "      <td>Q290126</td>\n",
       "      <td>[W13157, W03390, W01952, W05789, W17378, W0871...</td>\n",
       "      <td>[L2271, L1346, L1389, L2932, L0466, L2218, L19...</td>\n",
       "      <td>[W04476, W06606, W00316, W13157]</td>\n",
       "      <td>[L0050, L1187, L0104, L1683, L2495, L2812, L15...</td>\n",
       "      <td>7</td>\n",
       "      <td>12</td>\n",
       "      <td>4</td>\n",
       "      <td>10</td>\n",
       "      <td>2</td>\n",
       "      <td>4</td>\n",
       "    </tr>\n",
       "  </tbody>\n",
       "</table>\n",
       "</div>"
      ],
      "text/plain": [
       "   label       q1       q2                                                 w1  \\\n",
       "0      1  Q397345  Q538594                   [W04465, W04058, W05284, W02916]   \n",
       "1      0  Q193805  Q699273           [W10054, W04476, W09996, W12244, W18103]   \n",
       "2      0  Q085471  Q676160  [W04346, W17378, W19355, W17926, W14185, W1156...   \n",
       "3      0  Q189314  Q438123  [W17508, W09996, W19662, W17534, W11399, W1705...   \n",
       "4      0  Q267714  Q290126  [W13157, W03390, W01952, W05789, W17378, W0871...   \n",
       "\n",
       "                                                  c1  \\\n",
       "0         [L2218, L2568, L0360, L0242, L2218, L0741]   \n",
       "1  [L2376, L2168, L0050, L1187, L0104, L2432, L09...   \n",
       "2  [L2323, L1526, L2214, L1132, L2723, L1861, L22...   \n",
       "3  [L0018, L2321, L1346, L2432, L0902, L1149, L19...   \n",
       "4  [L2271, L1346, L1389, L2932, L0466, L2218, L19...   \n",
       "\n",
       "                                         w2  \\\n",
       "0          [W18238, W18843, W01490, W09905]   \n",
       "1  [W18439, W00863, W04259, W00740, W16070]   \n",
       "2  [W14586, W09745, W06017, W09067, W16319]   \n",
       "3                  [W18238, W02357, W06606]   \n",
       "4          [W04476, W06606, W00316, W13157]   \n",
       "\n",
       "                                                  c2  wnum1  cnum1  wnum2  \\\n",
       "0  [L3019, L0104, L0582, L2218, L1861, L1556, L0242]      4      6      4   \n",
       "1  [L0156, L2452, L1187, L0104, L2459, L2979, L26...      5     10      5   \n",
       "2         [L2568, L0971, L1291, L0358, L0037, L2582]      7     10      5   \n",
       "3  [L3019, L0104, L1104, L1935, L1683, L2495, L2812]      8     14      3   \n",
       "4  [L0050, L1187, L0104, L1683, L2495, L2812, L15...      7     12      4   \n",
       "\n",
       "   cnum2  wboth  cboth  \n",
       "0      7      0      3  \n",
       "1      8      0      2  \n",
       "2      6      0      0  \n",
       "3      7      1      2  \n",
       "4     10      2      4  "
      ]
     },
     "execution_count": 16,
     "metadata": {},
     "output_type": "execute_result"
    }
   ],
   "source": [
    "train_list = train_data.merge(questions, how=\"left\", left_on=\"q1\", right_on=\"qid\").drop(\"qid\", axis=1)\n",
    "train_list = train_list.rename(columns={\"words\": \"w1\", \"chars\": \"c1\"})\n",
    "train_list = train_list.merge(questions, how=\"left\", left_on=\"q2\", right_on=\"qid\").drop(\"qid\", axis=1)\n",
    "train_list = train_list.rename(columns={\"words\": \"w2\", \"chars\": \"c2\"})\n",
    "train_list[\"wnum1\"] = train_list[\"w1\"].map(len)\n",
    "train_list[\"cnum1\"] = train_list[\"c1\"].map(len)\n",
    "train_list[\"wnum2\"] = train_list[\"w2\"].map(len)\n",
    "train_list[\"cnum2\"] = train_list[\"c2\"].map(len)\n",
    "train_list[\"wboth\"] = train_list.apply(lambda x: len([t for t in x[\"w1\"] if t in x[\"w2\"]]), axis=1)\n",
    "train_list[\"cboth\"] = train_list.apply(lambda x: len([t for t in x[\"c1\"] if t in x[\"c2\"]]), axis=1)\n",
    "train_list.head()"
   ]
  },
  {
   "cell_type": "code",
   "execution_count": 17,
   "metadata": {
    "scrolled": true
   },
   "outputs": [
    {
     "data": {
      "text/html": [
       "<div>\n",
       "<style scoped>\n",
       "    .dataframe tbody tr th:only-of-type {\n",
       "        vertical-align: middle;\n",
       "    }\n",
       "\n",
       "    .dataframe tbody tr th {\n",
       "        vertical-align: top;\n",
       "    }\n",
       "\n",
       "    .dataframe thead th {\n",
       "        text-align: right;\n",
       "    }\n",
       "</style>\n",
       "<table border=\"1\" class=\"dataframe\">\n",
       "  <thead>\n",
       "    <tr style=\"text-align: right;\">\n",
       "      <th></th>\n",
       "      <th>q1</th>\n",
       "      <th>q2</th>\n",
       "      <th>w1</th>\n",
       "      <th>c1</th>\n",
       "      <th>w2</th>\n",
       "      <th>c2</th>\n",
       "      <th>wnum1</th>\n",
       "      <th>cnum1</th>\n",
       "      <th>wnum2</th>\n",
       "      <th>cnum2</th>\n",
       "      <th>wboth</th>\n",
       "      <th>cboth</th>\n",
       "    </tr>\n",
       "  </thead>\n",
       "  <tbody>\n",
       "    <tr>\n",
       "      <th>0</th>\n",
       "      <td>Q017571</td>\n",
       "      <td>Q006012</td>\n",
       "      <td>[W17342, W06766, W04049, W16319, W07863]</td>\n",
       "      <td>[L0358, L0143, L0942, L1872, L1236, L3046, L00...</td>\n",
       "      <td>[W11668, W17378, W11399, W14113]</td>\n",
       "      <td>[L1791, L2214, L1872, L1236, L0947, L2323]</td>\n",
       "      <td>5</td>\n",
       "      <td>9</td>\n",
       "      <td>4</td>\n",
       "      <td>6</td>\n",
       "      <td>0</td>\n",
       "      <td>2</td>\n",
       "    </tr>\n",
       "    <tr>\n",
       "      <th>1</th>\n",
       "      <td>Q728241</td>\n",
       "      <td>Q542572</td>\n",
       "      <td>[W17378, W17534, W02000, W19499, W05016, W0644...</td>\n",
       "      <td>[L2214, L1980, L1526, L2669, L0590, L2812, L05...</td>\n",
       "      <td>[W10157, W13631, W11299, W07863]</td>\n",
       "      <td>[L1796, L2568, L0127, L0004, L0030, L2120, L2927]</td>\n",
       "      <td>8</td>\n",
       "      <td>12</td>\n",
       "      <td>4</td>\n",
       "      <td>7</td>\n",
       "      <td>1</td>\n",
       "      <td>3</td>\n",
       "    </tr>\n",
       "    <tr>\n",
       "      <th>2</th>\n",
       "      <td>Q166997</td>\n",
       "      <td>Q118270</td>\n",
       "      <td>[W17378, W19355, W03914, W18238, W03746]</td>\n",
       "      <td>[L2214, L1132, L2292, L0158, L3019, L0104, L01...</td>\n",
       "      <td>[W19468, W10157, W02288, W18951, W18448]</td>\n",
       "      <td>[L2253, L1796, L2568, L0156, L0762, L1486, L22...</td>\n",
       "      <td>5</td>\n",
       "      <td>8</td>\n",
       "      <td>5</td>\n",
       "      <td>8</td>\n",
       "      <td>0</td>\n",
       "      <td>3</td>\n",
       "    </tr>\n",
       "    <tr>\n",
       "      <th>3</th>\n",
       "      <td>Q422420</td>\n",
       "      <td>Q514386</td>\n",
       "      <td>[W16938, W17867, W18843, W01490, W06036]</td>\n",
       "      <td>[L2172, L1074, L0582, L2218, L1861, L2705, L1037]</td>\n",
       "      <td>[W01490, W00496]</td>\n",
       "      <td>[L2218, L1861, L0377, L2619]</td>\n",
       "      <td>5</td>\n",
       "      <td>7</td>\n",
       "      <td>2</td>\n",
       "      <td>4</td>\n",
       "      <td>1</td>\n",
       "      <td>2</td>\n",
       "    </tr>\n",
       "    <tr>\n",
       "      <th>4</th>\n",
       "      <td>Q354329</td>\n",
       "      <td>Q032485</td>\n",
       "      <td>[W17378, W19355, W01490, W11030, W19349, W1839...</td>\n",
       "      <td>[L2214, L1132, L2218, L1861, L1536, L0146, L06...</td>\n",
       "      <td>[W04745, W04622, W00863, W16521, W17765, W0650...</td>\n",
       "      <td>[L2572, L0135, L0562, L0445, L1187, L0104, L27...</td>\n",
       "      <td>7</td>\n",
       "      <td>11</td>\n",
       "      <td>7</td>\n",
       "      <td>13</td>\n",
       "      <td>0</td>\n",
       "      <td>0</td>\n",
       "    </tr>\n",
       "  </tbody>\n",
       "</table>\n",
       "</div>"
      ],
      "text/plain": [
       "        q1       q2                                                 w1  \\\n",
       "0  Q017571  Q006012           [W17342, W06766, W04049, W16319, W07863]   \n",
       "1  Q728241  Q542572  [W17378, W17534, W02000, W19499, W05016, W0644...   \n",
       "2  Q166997  Q118270           [W17378, W19355, W03914, W18238, W03746]   \n",
       "3  Q422420  Q514386           [W16938, W17867, W18843, W01490, W06036]   \n",
       "4  Q354329  Q032485  [W17378, W19355, W01490, W11030, W19349, W1839...   \n",
       "\n",
       "                                                  c1  \\\n",
       "0  [L0358, L0143, L0942, L1872, L1236, L3046, L00...   \n",
       "1  [L2214, L1980, L1526, L2669, L0590, L2812, L05...   \n",
       "2  [L2214, L1132, L2292, L0158, L3019, L0104, L01...   \n",
       "3  [L2172, L1074, L0582, L2218, L1861, L2705, L1037]   \n",
       "4  [L2214, L1132, L2218, L1861, L1536, L0146, L06...   \n",
       "\n",
       "                                                  w2  \\\n",
       "0                   [W11668, W17378, W11399, W14113]   \n",
       "1                   [W10157, W13631, W11299, W07863]   \n",
       "2           [W19468, W10157, W02288, W18951, W18448]   \n",
       "3                                   [W01490, W00496]   \n",
       "4  [W04745, W04622, W00863, W16521, W17765, W0650...   \n",
       "\n",
       "                                                  c2  wnum1  cnum1  wnum2  \\\n",
       "0         [L1791, L2214, L1872, L1236, L0947, L2323]      5      9      4   \n",
       "1  [L1796, L2568, L0127, L0004, L0030, L2120, L2927]      8     12      4   \n",
       "2  [L2253, L1796, L2568, L0156, L0762, L1486, L22...      5      8      5   \n",
       "3                       [L2218, L1861, L0377, L2619]      5      7      2   \n",
       "4  [L2572, L0135, L0562, L0445, L1187, L0104, L27...      7     11      7   \n",
       "\n",
       "   cnum2  wboth  cboth  \n",
       "0      6      0      2  \n",
       "1      7      1      3  \n",
       "2      8      0      3  \n",
       "3      4      1      2  \n",
       "4     13      0      0  "
      ]
     },
     "execution_count": 17,
     "metadata": {},
     "output_type": "execute_result"
    }
   ],
   "source": [
    "test_list = test_data.merge(questions, how=\"left\", left_on=\"q1\", right_on=\"qid\").drop(\"qid\", axis=1)\n",
    "test_list = test_list.rename(columns={\"words\": \"w1\", \"chars\": \"c1\"})\n",
    "test_list = test_list.merge(questions, how=\"left\", left_on=\"q2\", right_on=\"qid\").drop(\"qid\", axis=1)\n",
    "test_list = test_list.rename(columns={\"words\": \"w2\", \"chars\": \"c2\"})\n",
    "test_list[\"wnum1\"] = test_list[\"w1\"].map(len)\n",
    "test_list[\"cnum1\"] = test_list[\"c1\"].map(len)\n",
    "test_list[\"wnum2\"] = test_list[\"w2\"].map(len)\n",
    "test_list[\"cnum2\"] = test_list[\"c2\"].map(len)\n",
    "test_list[\"wboth\"] = test_list.apply(lambda x: len([t for t in x[\"w1\"] if t in x[\"w2\"]]), axis=1)\n",
    "test_list[\"cboth\"] = test_list.apply(lambda x: len([t for t in x[\"c1\"] if t in x[\"c2\"]]), axis=1)\n",
    "test_list.head()"
   ]
  },
  {
   "cell_type": "code",
   "execution_count": 22,
   "metadata": {},
   "outputs": [
    {
     "data": {
      "text/plain": [
       "array([ 7.,  9., 11., 15.])"
      ]
     },
     "execution_count": 22,
     "metadata": {},
     "output_type": "execute_result"
    }
   ],
   "source": [
    "props = np.percentile(train_list[\"wnum1\"], [75, 90, 95, 99])\n",
    "props"
   ]
  },
  {
   "cell_type": "code",
   "execution_count": 18,
   "metadata": {},
   "outputs": [
    {
     "data": {
      "text/plain": [
       "<matplotlib.axes._subplots.AxesSubplot at 0x7f912387c5c0>"
      ]
     },
     "execution_count": 18,
     "metadata": {},
     "output_type": "execute_result"
    },
    {
     "data": {
      "image/png": "[encoded data removed]",
      "text/plain": [
       "<Figure size 1440x432 with 2 Axes>"
      ]
     },
     "metadata": {},
     "output_type": "display_data"
    }
   ],
   "source": [
    "fig, (ax1, ax2) = plt.subplots(1, 2, figsize=(20, 6))\n",
    "train_list.plot(kind=\"hist\", y=[\"wnum1\", \"wnum2\"], bins=20, alpha=0.5, density=True, ax=ax1)\n",
    "train_list.plot(kind=\"hist\", y=[\"cnum1\", \"cnum2\"], bins=20, alpha=0.5, density=True, ax=ax2)"
   ]
  },
  {
   "cell_type": "code",
   "execution_count": 19,
   "metadata": {},
   "outputs": [
    {
     "data": {
      "text/plain": [
       "<matplotlib.axes._subplots.AxesSubplot at 0x7f911a40a908>"
      ]
     },
     "execution_count": 19,
     "metadata": {},
     "output_type": "execute_result"
    },
    {
     "data": {
      "image/png": "[encoded data removed]",
      "text/plain": [
       "<Figure size 1440x432 with 2 Axes>"
      ]
     },
     "metadata": {},
     "output_type": "display_data"
    }
   ],
   "source": [
    "fig, (ax1, ax2) = plt.subplots(1, 2, figsize=(20, 6))\n",
    "test_list.plot(kind=\"hist\", y=[\"wnum1\", \"wnum2\"], bins=20, alpha=0.5, density=True, ax=ax1)\n",
    "test_list.plot(kind=\"hist\", y=[\"cnum1\", \"cnum2\"], bins=20, alpha=0.5, density=True, ax=ax2)"
   ]
  },
  {
   "cell_type": "code",
   "execution_count": 20,
   "metadata": {},
   "outputs": [
    {
     "data": {
      "text/plain": [
       "<matplotlib.legend.Legend at 0x7f911b271588>"
      ]
     },
     "execution_count": 20,
     "metadata": {},
     "output_type": "execute_result"
    },
    {
     "data": {
      "image/png": "[encoded data removed]",
      "text/plain": [
       "<Figure size 1440x432 with 2 Axes>"
      ]
     },
     "metadata": {},
     "output_type": "display_data"
    }
   ],
   "source": [
    "fig, (ax1, ax2) = plt.subplots(1, 2, figsize=(20, 6))\n",
    "ax1.hist(train_list[\"wnum1\"], bins=20, label=\"train\", alpha=0.4, density=True)\n",
    "ax1.hist(test_list[\"wnum1\"], bins=20, label=\"test\", alpha=0.4, density=True)\n",
    "ax1.legend()\n",
    "ax2.hist(train_list[\"cnum1\"], bins=20, label=\"train\", alpha=0.4, density=True)\n",
    "ax2.hist(test_list[\"cnum1\"], bins=20, label=\"test\", alpha=0.4, density=True)\n",
    "ax2.legend()"
   ]
  },
  {
   "cell_type": "markdown",
   "metadata": {},
   "source": [
    "**We can see** that the distributions of train and test are highly in accordance."
   ]
  },
  {
   "cell_type": "code",
   "execution_count": null,
   "metadata": {},
   "outputs": [],
   "source": []
  }
 ],
 "metadata": {
  "kernelspec": {
   "display_name": "Python 3",
   "language": "python",
   "name": "python3"
  },
  "language_info": {
   "codemirror_mode": {
    "name": "ipython",
    "version": 3
   },
   "file_extension": ".py",
   "mimetype": "text/x-python",
   "name": "python",
   "nbconvert_exporter": "python",
   "pygments_lexer": "ipython3",
   "version": "3.6.5"
  }
 },
 "nbformat": 4,
 "nbformat_minor": 2
}
